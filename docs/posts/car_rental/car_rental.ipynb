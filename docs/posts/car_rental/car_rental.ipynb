{
 "cells": [
  {
   "cell_type": "markdown",
   "metadata": {},
   "source": [
    "# Car rental problem"
   ]
  },
  {
   "cell_type": "markdown",
   "metadata": {},
   "source": [
    "The problem is described in the \"Richard S. Sutton and Andrew G. Barto. 2018. Reinforcement Learning: An Introduction. A Bradford Book, Cambridge, MA, USA\", in the example 4.2."
   ]
  },
  {
   "cell_type": "markdown",
   "metadata": {},
   "source": [
    "Add description...\n",
    "\n",
    "Add solution details..."
   ]
  },
  {
   "cell_type": "code",
   "execution_count": 1,
   "metadata": {},
   "outputs": [],
   "source": [
    "from pathlib import Path\n",
    "import pickle\n",
    "from omegaconf import OmegaConf, DictConfig\n",
    "\n",
    "import numpy as np\n",
    "from scipy import linalg, stats\n",
    "\n",
    "import plotly.express as px\n",
    "import plotly.graph_objects as go\n",
    "\n",
    "from components import reward_prob_tensor, value_iteration, get_optimal_policy"
   ]
  },
  {
   "cell_type": "code",
   "execution_count": null,
   "metadata": {},
   "outputs": [],
   "source": [
    "# read config with problem setting\n",
    "problem_dir = Path(\"sutton\")\n",
    "assert problem_dir.exists()"
   ]
  },
  {
   "cell_type": "code",
   "execution_count": 3,
   "metadata": {},
   "outputs": [],
   "source": [
    "problem_config_path = problem_dir / \"config.yaml\"\n",
    "with open(problem_config_path) as f:\n",
    "    config: DictConfig = OmegaConf.load(f)\n",
    "# set tolerance for value iteration convergence\n",
    "tol = 1e-6"
   ]
  },
  {
   "cell_type": "code",
   "execution_count": 4,
   "metadata": {},
   "outputs": [
    {
     "data": {
      "application/vnd.jupyter.widget-view+json": {
       "model_id": "6864b3bf613f4480961ddbcac188363a",
       "version_major": 2,
       "version_minor": 0
      },
      "text/plain": [
       "Output()"
      ]
     },
     "metadata": {},
     "output_type": "display_data"
    },
    {
     "data": {
      "text/html": [
       "<pre style=\"white-space:pre;overflow-x:auto;line-height:normal;font-family:Menlo,'DejaVu Sans Mono',consolas,'Courier New',monospace\"></pre>\n"
      ],
      "text/plain": []
     },
     "metadata": {},
     "output_type": "display_data"
    },
    {
     "data": {
      "application/vnd.jupyter.widget-view+json": {
       "model_id": "2ba604bf74ca4f57931a532e025802e8",
       "version_major": 2,
       "version_minor": 0
      },
      "text/plain": [
       "Output()"
      ]
     },
     "metadata": {},
     "output_type": "display_data"
    },
    {
     "data": {
      "text/html": [
       "<pre style=\"white-space:pre;overflow-x:auto;line-height:normal;font-family:Menlo,'DejaVu Sans Mono',consolas,'Courier New',monospace\"></pre>\n"
      ],
      "text/plain": []
     },
     "metadata": {},
     "output_type": "display_data"
    }
   ],
   "source": [
    "# consturct task's average rewards and probabilities of state transitions\n",
    "reward_t, prob_t = reward_prob_tensor(config)"
   ]
  },
  {
   "cell_type": "code",
   "execution_count": 5,
   "metadata": {},
   "outputs": [],
   "source": [
    "def probs_test():\n",
    "    summed_probs = prob_t.sum(axis=-1)\n",
    "    # check that probs add up to 1.\n",
    "    assert np.isclose(summed_probs, np.ones_like(summed_probs)).all()\n",
    "    assert np.all(prob_t >= 0.)\n",
    "\n",
    "probs_test()"
   ]
  },
  {
   "cell_type": "code",
   "execution_count": 6,
   "metadata": {},
   "outputs": [],
   "source": [
    "tensors_dir = problem_dir / \"tensors\"\n",
    "tensors_dir.mkdir(exist_ok=True)"
   ]
  },
  {
   "cell_type": "code",
   "execution_count": 7,
   "metadata": {},
   "outputs": [],
   "source": [
    "with open(tensors_dir / \"reward.pkl\", \"bw\") as f:\n",
    "    pickle.dump(reward_t, f)\n",
    "with open(tensors_dir / \"prob.pkl\", \"bw\") as f:\n",
    "    pickle.dump(prob_t, f)"
   ]
  },
  {
   "cell_type": "code",
   "execution_count": 8,
   "metadata": {},
   "outputs": [],
   "source": [
    "# initial value function\n",
    "v0 = np.zeros([(config.max_cars_location + 1) ** 2 + 1])"
   ]
  },
  {
   "cell_type": "code",
   "execution_count": 9,
   "metadata": {},
   "outputs": [
    {
     "data": {
      "application/vnd.jupyter.widget-view+json": {
       "model_id": "dd9a10a83e8143b6ab35edabd6a50943",
       "version_major": 2,
       "version_minor": 0
      },
      "text/plain": [
       "Output()"
      ]
     },
     "metadata": {},
     "output_type": "display_data"
    },
    {
     "data": {
      "text/html": [
       "<pre style=\"white-space:pre;overflow-x:auto;line-height:normal;font-family:Menlo,'DejaVu Sans Mono',consolas,'Courier New',monospace\"></pre>\n"
      ],
      "text/plain": []
     },
     "metadata": {},
     "output_type": "display_data"
    }
   ],
   "source": [
    "v = value_iteration(\n",
    "    reward_t, prob_t, config.gamma, v0,\n",
    "    tol, max_steps=1000\n",
    ")"
   ]
  },
  {
   "cell_type": "code",
   "execution_count": 10,
   "metadata": {},
   "outputs": [],
   "source": [
    "policy = get_optimal_policy(reward_t, prob_t, config.gamma, v)"
   ]
  },
  {
   "cell_type": "code",
   "execution_count": 11,
   "metadata": {},
   "outputs": [
    {
     "data": {
      "text/plain": [
       "np.float64(0.0)"
      ]
     },
     "execution_count": 11,
     "metadata": {},
     "output_type": "execute_result"
    }
   ],
   "source": [
    "v[-1]"
   ]
  },
  {
   "cell_type": "code",
   "execution_count": 12,
   "metadata": {},
   "outputs": [],
   "source": [
    "v = v[:-1].reshape([config.max_cars_location + 1, config.max_cars_location + 1])\n",
    "policy = policy[:-1].reshape([config.max_cars_location + 1, config.max_cars_location + 1])"
   ]
  },
  {
   "cell_type": "code",
   "execution_count": 13,
   "metadata": {},
   "outputs": [],
   "source": [
    "# make and save figures\n",
    "img_folder = problem_dir / \"assets\"\n",
    "img_folder.mkdir(exist_ok=True)"
   ]
  },
  {
   "cell_type": "code",
   "execution_count": 18,
   "metadata": {},
   "outputs": [
    {
     "data": {
      "application/vnd.plotly.v1+json": {
       "config": {
        "plotlyServerURL": "https://plot.ly"
       },
       "data": [
        {
         "colorbar": {
          "title": {
           "side": "right",
           "text": "Value function"
          }
         },
         "type": "contour",
         "x": [
          0,
          1,
          2,
          3,
          4,
          5,
          6,
          7,
          8,
          9,
          10,
          11,
          12,
          13,
          14,
          15,
          16,
          17,
          18,
          19,
          20
         ],
         "y": [
          0,
          1,
          2,
          3,
          4,
          5,
          6,
          7,
          8,
          9,
          10,
          11,
          12,
          13,
          14,
          15,
          16,
          17,
          18,
          19,
          20
         ],
         "z": [
          [
           421.4140552901485,
           431.38627594193207,
           441.241964083102,
           450.84728242179864,
           460.08009133339203,
           468.87221442277905,
           477.2105787079296,
           485.1143544579763,
           492.977650506062,
           500.4734808513983,
           507.8855648515758,
           514.9912865918408,
           521.7486254664603,
           528.3489778649339,
           534.7431770427569,
           540.833763450362,
           546.6406407573957,
           552.1805602148614,
           557.6057710113048,
           562.8136630164655,
           567.7685006899528
          ],
          [
           431.28780348703805,
           441.25995792935964,
           451.11531752895905,
           460.71979324989024,
           469.9510983208448,
           478.741089713124,
           487.0768402194318,
           494.977650506062,
           502.4734808513983,
           509.88556485157574,
           516.9912865918408,
           523.7486254664605,
           530.3489778649339,
           536.7431770427569,
           542.833763450362,
           548.6406407573957,
           554.1805602148614,
           559.6057710113048,
           564.8136630164656,
           569.7685006899528,
           574.4613695000437
          ],
          [
           440.76134467828007,
           450.7331926149981,
           460.5870331875861,
           470.1876209487275,
           479.4120121310437,
           488.1922675094813,
           496.5162189941169,
           504.403895565585,
           511.8855648515758,
           518.9912865918408,
           525.7486254664603,
           532.3489778649339,
           538.7431770427569,
           544.833763450362,
           550.6406407573957,
           556.1805602148614,
           561.6057710113048,
           566.8136630164656,
           571.7685006899528,
           576.4613695000437,
           580.8574944119355
          ],
          [
           449.58452151272877,
           459.55559366213095,
           469.40559306925246,
           478.99636484286873,
           488.20335299270437,
           496.9592455268601,
           505.25399448274925,
           513.1097692807128,
           520.5579910898541,
           527.6287529074018,
           534.3489778649339,
           540.743177042757,
           546.833763450362,
           552.6406407573957,
           558.1805602148614,
           563.6057710113048,
           568.8136630164656,
           573.7685006899528,
           578.4613695000438,
           582.8574944119355,
           586.9706606798669
          ],
          [
           457.67500686701186,
           467.64463977232526,
           477.48751546676715,
           487.06009512812943,
           496.234885215407,
           504.9458863987186,
           513.1872866848789,
           520.9857011083395,
           528.3752934749032,
           535.3868475594138,
           542.046622161758,
           548.3780196139854,
           554.4025302192794,
           560.13956910653,
           565.6057710113048,
           570.8136630164656,
           575.7685006899528,
           580.4613695000437,
           584.8574944119356,
           588.9706606798669,
           592.8925084545563
          ],
          [
           465.64463977232526,
           475.48751546676715,
           485.06009512812943,
           494.45073023878865,
           503.5762939767087,
           512.2187644552048,
           520.3791174549514,
           528.0913284301225,
           535.3944991650341,
           542.3212468878298,
           548.8974674353603,
           555.145284304503,
           561.0849071002892,
           566.7348571897222,
           572.1112471598083,
           577.2262419038002,
           582.0847408049849,
           586.6776253461271,
           590.9706606798669,
           594.8925084545563,
           598.3341475474713
          ],
          [
           473.48751546676715,
           483.06009512812943,
           492.4507302387887,
           501.5762939767087,
           510.36343583654593,
           518.9139923744385,
           526.9657272061105,
           534.562970811093,
           541.7521932130053,
           548.5692865231483,
           555.0403540982612,
           561.1862660128622,
           567.0257118810032,
           572.5759714256747,
           577.852254943022,
           582.8660151472584,
           587.6215381149084,
           592.109363210936,
           596.2957328447753,
           600.1114609747144,
           603.4519961556101
          ],
          [
           481.06009512812943,
           490.45073023878865,
           499.5762939767087,
           508.363435836546,
           516.9139923744384,
           525.1602698164735,
           533.0793166152416,
           540.5360500801468,
           547.5865406104714,
           554.2714454757755,
           560.6178134510469,
           566.6454676838431,
           572.3714936355171,
           577.81171561303,
           582.980193028951,
           587.8874547134411,
           592.537050183585,
           596.9191397520881,
           601.0004069861698,
           604.7136194714025,
           607.9581683033178
          ],
          [
           488.45073023878865,
           497.5762939767087,
           506.36343583654593,
           514.9139923744384,
           523.1602698164736,
           531.0793166152416,
           538.8173657700263,
           546.1135468624349,
           553.0051975104211,
           559.5390552474032,
           565.7439160758076,
           571.6389200872982,
           577.2396323516609,
           582.5603669278224,
           587.613937737997,
           592.4098827852858,
           596.9510109977118,
           601.227148368216,
           605.2054305338742,
           608.8203988196487,
           611.9748434413581
          ],
          [
           495.5762939767087,
           504.3634358365459,
           512.9139923744384,
           521.1602698164736,
           529.0793166152415,
           536.8173657700264,
           544.2426601176221,
           551.3646720648835,
           558.0830191015959,
           564.451511317141,
           570.5014595166724,
           576.2517987334361,
           581.7168122347599,
           586.9093985036154,
           591.8411639284786,
           596.5206965641179,
           600.9501345279057,
           605.1190556351604,
           608.9950898808665,
           612.5144331656192,
           615.5828568034459
          ],
          [
           502.36343583654593,
           510.9139923744384,
           519.1602698164735,
           527.0793166152415,
           534.8173657700264,
           542.2426601176221,
           549.3933695260581,
           556.3335891517631,
           562.8696525073834,
           569.0630666233419,
           574.9483158788827,
           580.5446611888401,
           585.8654565853637,
           590.9223963614467,
           595.7260143161735,
           600.284058355621,
           604.5981036952332,
           608.6575802808985,
           612.4306679189934,
           615.8551522230607,
           618.8395097945713
          ],
          [
           508.9139923744384,
           517.1602698164736,
           525.0793166152416,
           532.8173657700264,
           540.2426601176221,
           547.393369526058,
           554.3335891517631,
           561.0480638380016,
           567.3973191872814,
           573.4098631387449,
           579.123877318713,
           584.5594780722355,
           589.7295036758965,
           594.6447268308502,
           599.3148010282132,
           603.7467798889927,
           607.9417988323836,
           611.889241097618,
           615.5578944521512,
           618.887104966926,
           621.7878855031461
          ],
          [
           515.1602698164736,
           523.0793166152415,
           530.8173657700264,
           538.2426601176221,
           545.3933695260581,
           552.3335891517631,
           559.0480638380016,
           565.5252986753117,
           571.6862601159164,
           577.5149471776556,
           583.0536515316587,
           588.3238478112721,
           593.3382906818143,
           598.1071419741644,
           602.6393863326997,
           606.9415352287244,
           611.0144034382299,
           614.8474195956123,
           618.4100324598546,
           621.6431359174561,
           624.4601721254849
          ],
          [
           521.0492835917477,
           528.8173657700264,
           536.2426601176222,
           543.3933695260581,
           550.3335891517631,
           557.0480638380016,
           563.5252986753117,
           569.7748771313444,
           575.7477529607747,
           581.3912556294595,
           586.7521380561375,
           591.8537144546888,
           596.7090889067626,
           601.3281238976812,
           605.7193365256901,
           609.888828829342,
           613.8371918172918,
           617.5539714867084,
           621.0093164090415,
           624.1456541734385,
           626.8787715068013
          ],
          [
           526.6372886510411,
           534.2426601176221,
           541.3933695260581,
           548.3335891517631,
           555.0480638380016,
           561.5252986753117,
           567.7748771313444,
           573.798947570974,
           579.5847467694055,
           585.0426063754608,
           590.224068569414,
           595.154762070198,
           599.8485743739551,
           604.3153713026303,
           608.5633786587957,
           612.5983872431591,
           616.4208274512246,
           620.0204072662398,
           623.3679928667071,
           626.4075150945646,
           629.0570106029554
          ],
          [
           531.9565820433727,
           539.3933695260581,
           546.3335891517631,
           553.0480638380016,
           559.5252986753117,
           565.7748771313444,
           571.7989475709738,
           577.5892714699932,
           583.1896924598603,
           588.4622677774239,
           593.4636307417462,
           598.2221841919243,
           602.7530250361219,
           607.0663106750658,
           611.1701254030087,
           615.0700149794268,
           618.7662841191343,
           622.2488266629075,
           625.4892270415637,
           628.4328668451711,
           630.9999060108695
          ],
          [
           537.0258255455377,
           544.2925846402991,
           551.0480638380016,
           557.5252986753117,
           563.7748771313444,
           569.7989475709738,
           575.5892714699932,
           581.1896924598603,
           586.5392414829848,
           591.6287408377414,
           596.4512941127883,
           601.0384609960765,
           605.4069182688633,
           609.5673662530277,
           613.5278736656398,
           617.2937946678891,
           620.8653404937874,
           624.232618523848,
           627.3679341713073,
           630.218053653807,
           632.7050938682173
          ],
          [
           541.8563327221958,
           548.9544429756033,
           555.5252986753117,
           561.7748771313444,
           567.7989475709738,
           573.5892714699932,
           579.1896924598603,
           584.5392414829848,
           589.6287408377414,
           594.5001787770223,
           599.1493807454353,
           603.5700284312705,
           607.7806070510184,
           611.7925276234386,
           615.6139396843658,
           619.2500675205833,
           622.7010883136882,
           625.9573828946125,
           628.9920064207037,
           631.7530475379722,
           634.1643823063648
          ],
          [
           546.4545858713826,
           553.3868944053761,
           559.7748771313444,
           565.7989475709738,
           571.5892714699932,
           577.1896924598603,
           582.5392414829848,
           587.6287408377414,
           592.5001787770223,
           597.1493807454353,
           601.5700284312705,
           605.7806070510184,
           609.8305566687269,
           613.7041357303733,
           617.3959904332198,
           620.9112878649581,
           624.2502631676266,
           627.4036646853893,
           630.3453533855425,
           633.0246885142785,
           635.3670914031959
          ],
          [
           550.8214333811634,
           557.5913824523284,
           563.7989475709738,
           569.5892714699932,
           575.1896924598603,
           580.5392414829848,
           585.6287408377414,
           590.5001787770223,
           595.1493807454353,
           599.5700284312705,
           603.7806070510184,
           607.8305566687269,
           611.7041357303733,
           615.3959904332198,
           618.9112878649581,
           622.2502631676266,
           625.4905458904342,
           628.5540576408747,
           631.4148299003263,
           634.0234259479305,
           636.3065881920767
          ],
          [
           554.9476979297783,
           561.5591273173915,
           567.5892714699932,
           573.1896924598603,
           578.5392414829848,
           583.6287408377414,
           588.5001787770223,
           593.1493807454353,
           597.5700284312705,
           601.7806070510184,
           605.8305566687269,
           609.7041357303733,
           613.3959904332198,
           616.9112878649581,
           620.2502631676266,
           623.4905458904342,
           626.5540576408747,
           629.4148299003263,
           632.2013011379586,
           634.7534215143374,
           636.9895986980023
          ]
         ]
        }
       ],
       "layout": {
        "template": {
         "data": {
          "bar": [
           {
            "error_x": {
             "color": "#2a3f5f"
            },
            "error_y": {
             "color": "#2a3f5f"
            },
            "marker": {
             "line": {
              "color": "#E5ECF6",
              "width": 0.5
             },
             "pattern": {
              "fillmode": "overlay",
              "size": 10,
              "solidity": 0.2
             }
            },
            "type": "bar"
           }
          ],
          "barpolar": [
           {
            "marker": {
             "line": {
              "color": "#E5ECF6",
              "width": 0.5
             },
             "pattern": {
              "fillmode": "overlay",
              "size": 10,
              "solidity": 0.2
             }
            },
            "type": "barpolar"
           }
          ],
          "carpet": [
           {
            "aaxis": {
             "endlinecolor": "#2a3f5f",
             "gridcolor": "white",
             "linecolor": "white",
             "minorgridcolor": "white",
             "startlinecolor": "#2a3f5f"
            },
            "baxis": {
             "endlinecolor": "#2a3f5f",
             "gridcolor": "white",
             "linecolor": "white",
             "minorgridcolor": "white",
             "startlinecolor": "#2a3f5f"
            },
            "type": "carpet"
           }
          ],
          "choropleth": [
           {
            "colorbar": {
             "outlinewidth": 0,
             "ticks": ""
            },
            "type": "choropleth"
           }
          ],
          "contour": [
           {
            "colorbar": {
             "outlinewidth": 0,
             "ticks": ""
            },
            "colorscale": [
             [
              0,
              "#0d0887"
             ],
             [
              0.1111111111111111,
              "#46039f"
             ],
             [
              0.2222222222222222,
              "#7201a8"
             ],
             [
              0.3333333333333333,
              "#9c179e"
             ],
             [
              0.4444444444444444,
              "#bd3786"
             ],
             [
              0.5555555555555556,
              "#d8576b"
             ],
             [
              0.6666666666666666,
              "#ed7953"
             ],
             [
              0.7777777777777778,
              "#fb9f3a"
             ],
             [
              0.8888888888888888,
              "#fdca26"
             ],
             [
              1,
              "#f0f921"
             ]
            ],
            "type": "contour"
           }
          ],
          "contourcarpet": [
           {
            "colorbar": {
             "outlinewidth": 0,
             "ticks": ""
            },
            "type": "contourcarpet"
           }
          ],
          "heatmap": [
           {
            "colorbar": {
             "outlinewidth": 0,
             "ticks": ""
            },
            "colorscale": [
             [
              0,
              "#0d0887"
             ],
             [
              0.1111111111111111,
              "#46039f"
             ],
             [
              0.2222222222222222,
              "#7201a8"
             ],
             [
              0.3333333333333333,
              "#9c179e"
             ],
             [
              0.4444444444444444,
              "#bd3786"
             ],
             [
              0.5555555555555556,
              "#d8576b"
             ],
             [
              0.6666666666666666,
              "#ed7953"
             ],
             [
              0.7777777777777778,
              "#fb9f3a"
             ],
             [
              0.8888888888888888,
              "#fdca26"
             ],
             [
              1,
              "#f0f921"
             ]
            ],
            "type": "heatmap"
           }
          ],
          "heatmapgl": [
           {
            "colorbar": {
             "outlinewidth": 0,
             "ticks": ""
            },
            "colorscale": [
             [
              0,
              "#0d0887"
             ],
             [
              0.1111111111111111,
              "#46039f"
             ],
             [
              0.2222222222222222,
              "#7201a8"
             ],
             [
              0.3333333333333333,
              "#9c179e"
             ],
             [
              0.4444444444444444,
              "#bd3786"
             ],
             [
              0.5555555555555556,
              "#d8576b"
             ],
             [
              0.6666666666666666,
              "#ed7953"
             ],
             [
              0.7777777777777778,
              "#fb9f3a"
             ],
             [
              0.8888888888888888,
              "#fdca26"
             ],
             [
              1,
              "#f0f921"
             ]
            ],
            "type": "heatmapgl"
           }
          ],
          "histogram": [
           {
            "marker": {
             "pattern": {
              "fillmode": "overlay",
              "size": 10,
              "solidity": 0.2
             }
            },
            "type": "histogram"
           }
          ],
          "histogram2d": [
           {
            "colorbar": {
             "outlinewidth": 0,
             "ticks": ""
            },
            "colorscale": [
             [
              0,
              "#0d0887"
             ],
             [
              0.1111111111111111,
              "#46039f"
             ],
             [
              0.2222222222222222,
              "#7201a8"
             ],
             [
              0.3333333333333333,
              "#9c179e"
             ],
             [
              0.4444444444444444,
              "#bd3786"
             ],
             [
              0.5555555555555556,
              "#d8576b"
             ],
             [
              0.6666666666666666,
              "#ed7953"
             ],
             [
              0.7777777777777778,
              "#fb9f3a"
             ],
             [
              0.8888888888888888,
              "#fdca26"
             ],
             [
              1,
              "#f0f921"
             ]
            ],
            "type": "histogram2d"
           }
          ],
          "histogram2dcontour": [
           {
            "colorbar": {
             "outlinewidth": 0,
             "ticks": ""
            },
            "colorscale": [
             [
              0,
              "#0d0887"
             ],
             [
              0.1111111111111111,
              "#46039f"
             ],
             [
              0.2222222222222222,
              "#7201a8"
             ],
             [
              0.3333333333333333,
              "#9c179e"
             ],
             [
              0.4444444444444444,
              "#bd3786"
             ],
             [
              0.5555555555555556,
              "#d8576b"
             ],
             [
              0.6666666666666666,
              "#ed7953"
             ],
             [
              0.7777777777777778,
              "#fb9f3a"
             ],
             [
              0.8888888888888888,
              "#fdca26"
             ],
             [
              1,
              "#f0f921"
             ]
            ],
            "type": "histogram2dcontour"
           }
          ],
          "mesh3d": [
           {
            "colorbar": {
             "outlinewidth": 0,
             "ticks": ""
            },
            "type": "mesh3d"
           }
          ],
          "parcoords": [
           {
            "line": {
             "colorbar": {
              "outlinewidth": 0,
              "ticks": ""
             }
            },
            "type": "parcoords"
           }
          ],
          "pie": [
           {
            "automargin": true,
            "type": "pie"
           }
          ],
          "scatter": [
           {
            "fillpattern": {
             "fillmode": "overlay",
             "size": 10,
             "solidity": 0.2
            },
            "type": "scatter"
           }
          ],
          "scatter3d": [
           {
            "line": {
             "colorbar": {
              "outlinewidth": 0,
              "ticks": ""
             }
            },
            "marker": {
             "colorbar": {
              "outlinewidth": 0,
              "ticks": ""
             }
            },
            "type": "scatter3d"
           }
          ],
          "scattercarpet": [
           {
            "marker": {
             "colorbar": {
              "outlinewidth": 0,
              "ticks": ""
             }
            },
            "type": "scattercarpet"
           }
          ],
          "scattergeo": [
           {
            "marker": {
             "colorbar": {
              "outlinewidth": 0,
              "ticks": ""
             }
            },
            "type": "scattergeo"
           }
          ],
          "scattergl": [
           {
            "marker": {
             "colorbar": {
              "outlinewidth": 0,
              "ticks": ""
             }
            },
            "type": "scattergl"
           }
          ],
          "scattermapbox": [
           {
            "marker": {
             "colorbar": {
              "outlinewidth": 0,
              "ticks": ""
             }
            },
            "type": "scattermapbox"
           }
          ],
          "scatterpolar": [
           {
            "marker": {
             "colorbar": {
              "outlinewidth": 0,
              "ticks": ""
             }
            },
            "type": "scatterpolar"
           }
          ],
          "scatterpolargl": [
           {
            "marker": {
             "colorbar": {
              "outlinewidth": 0,
              "ticks": ""
             }
            },
            "type": "scatterpolargl"
           }
          ],
          "scatterternary": [
           {
            "marker": {
             "colorbar": {
              "outlinewidth": 0,
              "ticks": ""
             }
            },
            "type": "scatterternary"
           }
          ],
          "surface": [
           {
            "colorbar": {
             "outlinewidth": 0,
             "ticks": ""
            },
            "colorscale": [
             [
              0,
              "#0d0887"
             ],
             [
              0.1111111111111111,
              "#46039f"
             ],
             [
              0.2222222222222222,
              "#7201a8"
             ],
             [
              0.3333333333333333,
              "#9c179e"
             ],
             [
              0.4444444444444444,
              "#bd3786"
             ],
             [
              0.5555555555555556,
              "#d8576b"
             ],
             [
              0.6666666666666666,
              "#ed7953"
             ],
             [
              0.7777777777777778,
              "#fb9f3a"
             ],
             [
              0.8888888888888888,
              "#fdca26"
             ],
             [
              1,
              "#f0f921"
             ]
            ],
            "type": "surface"
           }
          ],
          "table": [
           {
            "cells": {
             "fill": {
              "color": "#EBF0F8"
             },
             "line": {
              "color": "white"
             }
            },
            "header": {
             "fill": {
              "color": "#C8D4E3"
             },
             "line": {
              "color": "white"
             }
            },
            "type": "table"
           }
          ]
         },
         "layout": {
          "annotationdefaults": {
           "arrowcolor": "#2a3f5f",
           "arrowhead": 0,
           "arrowwidth": 1
          },
          "autotypenumbers": "strict",
          "coloraxis": {
           "colorbar": {
            "outlinewidth": 0,
            "ticks": ""
           }
          },
          "colorscale": {
           "diverging": [
            [
             0,
             "#8e0152"
            ],
            [
             0.1,
             "#c51b7d"
            ],
            [
             0.2,
             "#de77ae"
            ],
            [
             0.3,
             "#f1b6da"
            ],
            [
             0.4,
             "#fde0ef"
            ],
            [
             0.5,
             "#f7f7f7"
            ],
            [
             0.6,
             "#e6f5d0"
            ],
            [
             0.7,
             "#b8e186"
            ],
            [
             0.8,
             "#7fbc41"
            ],
            [
             0.9,
             "#4d9221"
            ],
            [
             1,
             "#276419"
            ]
           ],
           "sequential": [
            [
             0,
             "#0d0887"
            ],
            [
             0.1111111111111111,
             "#46039f"
            ],
            [
             0.2222222222222222,
             "#7201a8"
            ],
            [
             0.3333333333333333,
             "#9c179e"
            ],
            [
             0.4444444444444444,
             "#bd3786"
            ],
            [
             0.5555555555555556,
             "#d8576b"
            ],
            [
             0.6666666666666666,
             "#ed7953"
            ],
            [
             0.7777777777777778,
             "#fb9f3a"
            ],
            [
             0.8888888888888888,
             "#fdca26"
            ],
            [
             1,
             "#f0f921"
            ]
           ],
           "sequentialminus": [
            [
             0,
             "#0d0887"
            ],
            [
             0.1111111111111111,
             "#46039f"
            ],
            [
             0.2222222222222222,
             "#7201a8"
            ],
            [
             0.3333333333333333,
             "#9c179e"
            ],
            [
             0.4444444444444444,
             "#bd3786"
            ],
            [
             0.5555555555555556,
             "#d8576b"
            ],
            [
             0.6666666666666666,
             "#ed7953"
            ],
            [
             0.7777777777777778,
             "#fb9f3a"
            ],
            [
             0.8888888888888888,
             "#fdca26"
            ],
            [
             1,
             "#f0f921"
            ]
           ]
          },
          "colorway": [
           "#636efa",
           "#EF553B",
           "#00cc96",
           "#ab63fa",
           "#FFA15A",
           "#19d3f3",
           "#FF6692",
           "#B6E880",
           "#FF97FF",
           "#FECB52"
          ],
          "font": {
           "color": "#2a3f5f"
          },
          "geo": {
           "bgcolor": "white",
           "lakecolor": "white",
           "landcolor": "#E5ECF6",
           "showlakes": true,
           "showland": true,
           "subunitcolor": "white"
          },
          "hoverlabel": {
           "align": "left"
          },
          "hovermode": "closest",
          "mapbox": {
           "style": "light"
          },
          "paper_bgcolor": "white",
          "plot_bgcolor": "#E5ECF6",
          "polar": {
           "angularaxis": {
            "gridcolor": "white",
            "linecolor": "white",
            "ticks": ""
           },
           "bgcolor": "#E5ECF6",
           "radialaxis": {
            "gridcolor": "white",
            "linecolor": "white",
            "ticks": ""
           }
          },
          "scene": {
           "xaxis": {
            "backgroundcolor": "#E5ECF6",
            "gridcolor": "white",
            "gridwidth": 2,
            "linecolor": "white",
            "showbackground": true,
            "ticks": "",
            "zerolinecolor": "white"
           },
           "yaxis": {
            "backgroundcolor": "#E5ECF6",
            "gridcolor": "white",
            "gridwidth": 2,
            "linecolor": "white",
            "showbackground": true,
            "ticks": "",
            "zerolinecolor": "white"
           },
           "zaxis": {
            "backgroundcolor": "#E5ECF6",
            "gridcolor": "white",
            "gridwidth": 2,
            "linecolor": "white",
            "showbackground": true,
            "ticks": "",
            "zerolinecolor": "white"
           }
          },
          "shapedefaults": {
           "line": {
            "color": "#2a3f5f"
           }
          },
          "ternary": {
           "aaxis": {
            "gridcolor": "white",
            "linecolor": "white",
            "ticks": ""
           },
           "baxis": {
            "gridcolor": "white",
            "linecolor": "white",
            "ticks": ""
           },
           "bgcolor": "#E5ECF6",
           "caxis": {
            "gridcolor": "white",
            "linecolor": "white",
            "ticks": ""
           }
          },
          "title": {
           "x": 0.05
          },
          "xaxis": {
           "automargin": true,
           "gridcolor": "white",
           "linecolor": "white",
           "ticks": "",
           "title": {
            "standoff": 15
           },
           "zerolinecolor": "white",
           "zerolinewidth": 2
          },
          "yaxis": {
           "automargin": true,
           "gridcolor": "white",
           "linecolor": "white",
           "ticks": "",
           "title": {
            "standoff": 15
           },
           "zerolinecolor": "white",
           "zerolinewidth": 2
          }
         }
        },
        "xaxis": {
         "title": {
          "text": "num_cars0"
         }
        },
        "yaxis": {
         "title": {
          "text": "num_cars1"
         }
        }
       }
      }
     },
     "metadata": {},
     "output_type": "display_data"
    }
   ],
   "source": [
    "value_fig = go.Figure(\n",
    "    data=go.Contour(\n",
    "        z=v,\n",
    "        x=np.arange(0, config.max_cars_location + 1),\n",
    "        y=np.arange(0, config.max_cars_location + 1),\n",
    "        colorbar=dict(\n",
    "            title=dict(text='Value function', side='right'),\n",
    "        ),\n",
    "    ),\n",
    "    layout={\n",
    "        \"xaxis_title\": \"num_cars0\",\n",
    "        \"yaxis_title\": \"num_cars1\",\n",
    "    }\n",
    ")\n",
    "value_fig.write_html(img_folder / \"value.html\")\n",
    "value_fig.show()"
   ]
  },
  {
   "cell_type": "code",
   "execution_count": 19,
   "metadata": {},
   "outputs": [
    {
     "data": {
      "application/vnd.plotly.v1+json": {
       "config": {
        "plotlyServerURL": "https://plot.ly"
       },
       "data": [
        {
         "coloraxis": "coloraxis",
         "hovertemplate": "num_cars1: %{x}<br>num_cars0: %{y}<br>Value function: %{z}<extra></extra>",
         "name": "0",
         "type": "heatmap",
         "x": [
          0,
          1,
          2,
          3,
          4,
          5,
          6,
          7,
          8,
          9,
          10,
          11,
          12,
          13,
          14,
          15,
          16,
          17,
          18,
          19,
          20
         ],
         "xaxis": "x",
         "y": [
          0,
          1,
          2,
          3,
          4,
          5,
          6,
          7,
          8,
          9,
          10,
          11,
          12,
          13,
          14,
          15,
          16,
          17,
          18,
          19,
          20
         ],
         "yaxis": "y",
         "z": [
          [
           421.4140552901485,
           431.38627594193207,
           441.241964083102,
           450.84728242179864,
           460.08009133339203,
           468.87221442277905,
           477.2105787079296,
           485.1143544579763,
           492.977650506062,
           500.4734808513983,
           507.8855648515758,
           514.9912865918408,
           521.7486254664603,
           528.3489778649339,
           534.7431770427569,
           540.833763450362,
           546.6406407573957,
           552.1805602148614,
           557.6057710113048,
           562.8136630164655,
           567.7685006899528
          ],
          [
           431.28780348703805,
           441.25995792935964,
           451.11531752895905,
           460.71979324989024,
           469.9510983208448,
           478.741089713124,
           487.0768402194318,
           494.977650506062,
           502.4734808513983,
           509.88556485157574,
           516.9912865918408,
           523.7486254664605,
           530.3489778649339,
           536.7431770427569,
           542.833763450362,
           548.6406407573957,
           554.1805602148614,
           559.6057710113048,
           564.8136630164656,
           569.7685006899528,
           574.4613695000437
          ],
          [
           440.76134467828007,
           450.7331926149981,
           460.5870331875861,
           470.1876209487275,
           479.4120121310437,
           488.1922675094813,
           496.5162189941169,
           504.403895565585,
           511.8855648515758,
           518.9912865918408,
           525.7486254664603,
           532.3489778649339,
           538.7431770427569,
           544.833763450362,
           550.6406407573957,
           556.1805602148614,
           561.6057710113048,
           566.8136630164656,
           571.7685006899528,
           576.4613695000437,
           580.8574944119355
          ],
          [
           449.58452151272877,
           459.55559366213095,
           469.40559306925246,
           478.99636484286873,
           488.20335299270437,
           496.9592455268601,
           505.25399448274925,
           513.1097692807128,
           520.5579910898541,
           527.6287529074018,
           534.3489778649339,
           540.743177042757,
           546.833763450362,
           552.6406407573957,
           558.1805602148614,
           563.6057710113048,
           568.8136630164656,
           573.7685006899528,
           578.4613695000438,
           582.8574944119355,
           586.9706606798669
          ],
          [
           457.67500686701186,
           467.64463977232526,
           477.48751546676715,
           487.06009512812943,
           496.234885215407,
           504.9458863987186,
           513.1872866848789,
           520.9857011083395,
           528.3752934749032,
           535.3868475594138,
           542.046622161758,
           548.3780196139854,
           554.4025302192794,
           560.13956910653,
           565.6057710113048,
           570.8136630164656,
           575.7685006899528,
           580.4613695000437,
           584.8574944119356,
           588.9706606798669,
           592.8925084545563
          ],
          [
           465.64463977232526,
           475.48751546676715,
           485.06009512812943,
           494.45073023878865,
           503.5762939767087,
           512.2187644552048,
           520.3791174549514,
           528.0913284301225,
           535.3944991650341,
           542.3212468878298,
           548.8974674353603,
           555.145284304503,
           561.0849071002892,
           566.7348571897222,
           572.1112471598083,
           577.2262419038002,
           582.0847408049849,
           586.6776253461271,
           590.9706606798669,
           594.8925084545563,
           598.3341475474713
          ],
          [
           473.48751546676715,
           483.06009512812943,
           492.4507302387887,
           501.5762939767087,
           510.36343583654593,
           518.9139923744385,
           526.9657272061105,
           534.562970811093,
           541.7521932130053,
           548.5692865231483,
           555.0403540982612,
           561.1862660128622,
           567.0257118810032,
           572.5759714256747,
           577.852254943022,
           582.8660151472584,
           587.6215381149084,
           592.109363210936,
           596.2957328447753,
           600.1114609747144,
           603.4519961556101
          ],
          [
           481.06009512812943,
           490.45073023878865,
           499.5762939767087,
           508.363435836546,
           516.9139923744384,
           525.1602698164735,
           533.0793166152416,
           540.5360500801468,
           547.5865406104714,
           554.2714454757755,
           560.6178134510469,
           566.6454676838431,
           572.3714936355171,
           577.81171561303,
           582.980193028951,
           587.8874547134411,
           592.537050183585,
           596.9191397520881,
           601.0004069861698,
           604.7136194714025,
           607.9581683033178
          ],
          [
           488.45073023878865,
           497.5762939767087,
           506.36343583654593,
           514.9139923744384,
           523.1602698164736,
           531.0793166152416,
           538.8173657700263,
           546.1135468624349,
           553.0051975104211,
           559.5390552474032,
           565.7439160758076,
           571.6389200872982,
           577.2396323516609,
           582.5603669278224,
           587.613937737997,
           592.4098827852858,
           596.9510109977118,
           601.227148368216,
           605.2054305338742,
           608.8203988196487,
           611.9748434413581
          ],
          [
           495.5762939767087,
           504.3634358365459,
           512.9139923744384,
           521.1602698164736,
           529.0793166152415,
           536.8173657700264,
           544.2426601176221,
           551.3646720648835,
           558.0830191015959,
           564.451511317141,
           570.5014595166724,
           576.2517987334361,
           581.7168122347599,
           586.9093985036154,
           591.8411639284786,
           596.5206965641179,
           600.9501345279057,
           605.1190556351604,
           608.9950898808665,
           612.5144331656192,
           615.5828568034459
          ],
          [
           502.36343583654593,
           510.9139923744384,
           519.1602698164735,
           527.0793166152415,
           534.8173657700264,
           542.2426601176221,
           549.3933695260581,
           556.3335891517631,
           562.8696525073834,
           569.0630666233419,
           574.9483158788827,
           580.5446611888401,
           585.8654565853637,
           590.9223963614467,
           595.7260143161735,
           600.284058355621,
           604.5981036952332,
           608.6575802808985,
           612.4306679189934,
           615.8551522230607,
           618.8395097945713
          ],
          [
           508.9139923744384,
           517.1602698164736,
           525.0793166152416,
           532.8173657700264,
           540.2426601176221,
           547.393369526058,
           554.3335891517631,
           561.0480638380016,
           567.3973191872814,
           573.4098631387449,
           579.123877318713,
           584.5594780722355,
           589.7295036758965,
           594.6447268308502,
           599.3148010282132,
           603.7467798889927,
           607.9417988323836,
           611.889241097618,
           615.5578944521512,
           618.887104966926,
           621.7878855031461
          ],
          [
           515.1602698164736,
           523.0793166152415,
           530.8173657700264,
           538.2426601176221,
           545.3933695260581,
           552.3335891517631,
           559.0480638380016,
           565.5252986753117,
           571.6862601159164,
           577.5149471776556,
           583.0536515316587,
           588.3238478112721,
           593.3382906818143,
           598.1071419741644,
           602.6393863326997,
           606.9415352287244,
           611.0144034382299,
           614.8474195956123,
           618.4100324598546,
           621.6431359174561,
           624.4601721254849
          ],
          [
           521.0492835917477,
           528.8173657700264,
           536.2426601176222,
           543.3933695260581,
           550.3335891517631,
           557.0480638380016,
           563.5252986753117,
           569.7748771313444,
           575.7477529607747,
           581.3912556294595,
           586.7521380561375,
           591.8537144546888,
           596.7090889067626,
           601.3281238976812,
           605.7193365256901,
           609.888828829342,
           613.8371918172918,
           617.5539714867084,
           621.0093164090415,
           624.1456541734385,
           626.8787715068013
          ],
          [
           526.6372886510411,
           534.2426601176221,
           541.3933695260581,
           548.3335891517631,
           555.0480638380016,
           561.5252986753117,
           567.7748771313444,
           573.798947570974,
           579.5847467694055,
           585.0426063754608,
           590.224068569414,
           595.154762070198,
           599.8485743739551,
           604.3153713026303,
           608.5633786587957,
           612.5983872431591,
           616.4208274512246,
           620.0204072662398,
           623.3679928667071,
           626.4075150945646,
           629.0570106029554
          ],
          [
           531.9565820433727,
           539.3933695260581,
           546.3335891517631,
           553.0480638380016,
           559.5252986753117,
           565.7748771313444,
           571.7989475709738,
           577.5892714699932,
           583.1896924598603,
           588.4622677774239,
           593.4636307417462,
           598.2221841919243,
           602.7530250361219,
           607.0663106750658,
           611.1701254030087,
           615.0700149794268,
           618.7662841191343,
           622.2488266629075,
           625.4892270415637,
           628.4328668451711,
           630.9999060108695
          ],
          [
           537.0258255455377,
           544.2925846402991,
           551.0480638380016,
           557.5252986753117,
           563.7748771313444,
           569.7989475709738,
           575.5892714699932,
           581.1896924598603,
           586.5392414829848,
           591.6287408377414,
           596.4512941127883,
           601.0384609960765,
           605.4069182688633,
           609.5673662530277,
           613.5278736656398,
           617.2937946678891,
           620.8653404937874,
           624.232618523848,
           627.3679341713073,
           630.218053653807,
           632.7050938682173
          ],
          [
           541.8563327221958,
           548.9544429756033,
           555.5252986753117,
           561.7748771313444,
           567.7989475709738,
           573.5892714699932,
           579.1896924598603,
           584.5392414829848,
           589.6287408377414,
           594.5001787770223,
           599.1493807454353,
           603.5700284312705,
           607.7806070510184,
           611.7925276234386,
           615.6139396843658,
           619.2500675205833,
           622.7010883136882,
           625.9573828946125,
           628.9920064207037,
           631.7530475379722,
           634.1643823063648
          ],
          [
           546.4545858713826,
           553.3868944053761,
           559.7748771313444,
           565.7989475709738,
           571.5892714699932,
           577.1896924598603,
           582.5392414829848,
           587.6287408377414,
           592.5001787770223,
           597.1493807454353,
           601.5700284312705,
           605.7806070510184,
           609.8305566687269,
           613.7041357303733,
           617.3959904332198,
           620.9112878649581,
           624.2502631676266,
           627.4036646853893,
           630.3453533855425,
           633.0246885142785,
           635.3670914031959
          ],
          [
           550.8214333811634,
           557.5913824523284,
           563.7989475709738,
           569.5892714699932,
           575.1896924598603,
           580.5392414829848,
           585.6287408377414,
           590.5001787770223,
           595.1493807454353,
           599.5700284312705,
           603.7806070510184,
           607.8305566687269,
           611.7041357303733,
           615.3959904332198,
           618.9112878649581,
           622.2502631676266,
           625.4905458904342,
           628.5540576408747,
           631.4148299003263,
           634.0234259479305,
           636.3065881920767
          ],
          [
           554.9476979297783,
           561.5591273173915,
           567.5892714699932,
           573.1896924598603,
           578.5392414829848,
           583.6287408377414,
           588.5001787770223,
           593.1493807454353,
           597.5700284312705,
           601.7806070510184,
           605.8305566687269,
           609.7041357303733,
           613.3959904332198,
           616.9112878649581,
           620.2502631676266,
           623.4905458904342,
           626.5540576408747,
           629.4148299003263,
           632.2013011379586,
           634.7534215143374,
           636.9895986980023
          ]
         ]
        }
       ],
       "layout": {
        "coloraxis": {
         "colorbar": {
          "title": {
           "text": "Value function"
          }
         },
         "colorscale": [
          [
           0,
           "#0d0887"
          ],
          [
           0.1111111111111111,
           "#46039f"
          ],
          [
           0.2222222222222222,
           "#7201a8"
          ],
          [
           0.3333333333333333,
           "#9c179e"
          ],
          [
           0.4444444444444444,
           "#bd3786"
          ],
          [
           0.5555555555555556,
           "#d8576b"
          ],
          [
           0.6666666666666666,
           "#ed7953"
          ],
          [
           0.7777777777777778,
           "#fb9f3a"
          ],
          [
           0.8888888888888888,
           "#fdca26"
          ],
          [
           1,
           "#f0f921"
          ]
         ]
        },
        "margin": {
         "t": 60
        },
        "template": {
         "data": {
          "bar": [
           {
            "error_x": {
             "color": "#2a3f5f"
            },
            "error_y": {
             "color": "#2a3f5f"
            },
            "marker": {
             "line": {
              "color": "#E5ECF6",
              "width": 0.5
             },
             "pattern": {
              "fillmode": "overlay",
              "size": 10,
              "solidity": 0.2
             }
            },
            "type": "bar"
           }
          ],
          "barpolar": [
           {
            "marker": {
             "line": {
              "color": "#E5ECF6",
              "width": 0.5
             },
             "pattern": {
              "fillmode": "overlay",
              "size": 10,
              "solidity": 0.2
             }
            },
            "type": "barpolar"
           }
          ],
          "carpet": [
           {
            "aaxis": {
             "endlinecolor": "#2a3f5f",
             "gridcolor": "white",
             "linecolor": "white",
             "minorgridcolor": "white",
             "startlinecolor": "#2a3f5f"
            },
            "baxis": {
             "endlinecolor": "#2a3f5f",
             "gridcolor": "white",
             "linecolor": "white",
             "minorgridcolor": "white",
             "startlinecolor": "#2a3f5f"
            },
            "type": "carpet"
           }
          ],
          "choropleth": [
           {
            "colorbar": {
             "outlinewidth": 0,
             "ticks": ""
            },
            "type": "choropleth"
           }
          ],
          "contour": [
           {
            "colorbar": {
             "outlinewidth": 0,
             "ticks": ""
            },
            "colorscale": [
             [
              0,
              "#0d0887"
             ],
             [
              0.1111111111111111,
              "#46039f"
             ],
             [
              0.2222222222222222,
              "#7201a8"
             ],
             [
              0.3333333333333333,
              "#9c179e"
             ],
             [
              0.4444444444444444,
              "#bd3786"
             ],
             [
              0.5555555555555556,
              "#d8576b"
             ],
             [
              0.6666666666666666,
              "#ed7953"
             ],
             [
              0.7777777777777778,
              "#fb9f3a"
             ],
             [
              0.8888888888888888,
              "#fdca26"
             ],
             [
              1,
              "#f0f921"
             ]
            ],
            "type": "contour"
           }
          ],
          "contourcarpet": [
           {
            "colorbar": {
             "outlinewidth": 0,
             "ticks": ""
            },
            "type": "contourcarpet"
           }
          ],
          "heatmap": [
           {
            "colorbar": {
             "outlinewidth": 0,
             "ticks": ""
            },
            "colorscale": [
             [
              0,
              "#0d0887"
             ],
             [
              0.1111111111111111,
              "#46039f"
             ],
             [
              0.2222222222222222,
              "#7201a8"
             ],
             [
              0.3333333333333333,
              "#9c179e"
             ],
             [
              0.4444444444444444,
              "#bd3786"
             ],
             [
              0.5555555555555556,
              "#d8576b"
             ],
             [
              0.6666666666666666,
              "#ed7953"
             ],
             [
              0.7777777777777778,
              "#fb9f3a"
             ],
             [
              0.8888888888888888,
              "#fdca26"
             ],
             [
              1,
              "#f0f921"
             ]
            ],
            "type": "heatmap"
           }
          ],
          "heatmapgl": [
           {
            "colorbar": {
             "outlinewidth": 0,
             "ticks": ""
            },
            "colorscale": [
             [
              0,
              "#0d0887"
             ],
             [
              0.1111111111111111,
              "#46039f"
             ],
             [
              0.2222222222222222,
              "#7201a8"
             ],
             [
              0.3333333333333333,
              "#9c179e"
             ],
             [
              0.4444444444444444,
              "#bd3786"
             ],
             [
              0.5555555555555556,
              "#d8576b"
             ],
             [
              0.6666666666666666,
              "#ed7953"
             ],
             [
              0.7777777777777778,
              "#fb9f3a"
             ],
             [
              0.8888888888888888,
              "#fdca26"
             ],
             [
              1,
              "#f0f921"
             ]
            ],
            "type": "heatmapgl"
           }
          ],
          "histogram": [
           {
            "marker": {
             "pattern": {
              "fillmode": "overlay",
              "size": 10,
              "solidity": 0.2
             }
            },
            "type": "histogram"
           }
          ],
          "histogram2d": [
           {
            "colorbar": {
             "outlinewidth": 0,
             "ticks": ""
            },
            "colorscale": [
             [
              0,
              "#0d0887"
             ],
             [
              0.1111111111111111,
              "#46039f"
             ],
             [
              0.2222222222222222,
              "#7201a8"
             ],
             [
              0.3333333333333333,
              "#9c179e"
             ],
             [
              0.4444444444444444,
              "#bd3786"
             ],
             [
              0.5555555555555556,
              "#d8576b"
             ],
             [
              0.6666666666666666,
              "#ed7953"
             ],
             [
              0.7777777777777778,
              "#fb9f3a"
             ],
             [
              0.8888888888888888,
              "#fdca26"
             ],
             [
              1,
              "#f0f921"
             ]
            ],
            "type": "histogram2d"
           }
          ],
          "histogram2dcontour": [
           {
            "colorbar": {
             "outlinewidth": 0,
             "ticks": ""
            },
            "colorscale": [
             [
              0,
              "#0d0887"
             ],
             [
              0.1111111111111111,
              "#46039f"
             ],
             [
              0.2222222222222222,
              "#7201a8"
             ],
             [
              0.3333333333333333,
              "#9c179e"
             ],
             [
              0.4444444444444444,
              "#bd3786"
             ],
             [
              0.5555555555555556,
              "#d8576b"
             ],
             [
              0.6666666666666666,
              "#ed7953"
             ],
             [
              0.7777777777777778,
              "#fb9f3a"
             ],
             [
              0.8888888888888888,
              "#fdca26"
             ],
             [
              1,
              "#f0f921"
             ]
            ],
            "type": "histogram2dcontour"
           }
          ],
          "mesh3d": [
           {
            "colorbar": {
             "outlinewidth": 0,
             "ticks": ""
            },
            "type": "mesh3d"
           }
          ],
          "parcoords": [
           {
            "line": {
             "colorbar": {
              "outlinewidth": 0,
              "ticks": ""
             }
            },
            "type": "parcoords"
           }
          ],
          "pie": [
           {
            "automargin": true,
            "type": "pie"
           }
          ],
          "scatter": [
           {
            "fillpattern": {
             "fillmode": "overlay",
             "size": 10,
             "solidity": 0.2
            },
            "type": "scatter"
           }
          ],
          "scatter3d": [
           {
            "line": {
             "colorbar": {
              "outlinewidth": 0,
              "ticks": ""
             }
            },
            "marker": {
             "colorbar": {
              "outlinewidth": 0,
              "ticks": ""
             }
            },
            "type": "scatter3d"
           }
          ],
          "scattercarpet": [
           {
            "marker": {
             "colorbar": {
              "outlinewidth": 0,
              "ticks": ""
             }
            },
            "type": "scattercarpet"
           }
          ],
          "scattergeo": [
           {
            "marker": {
             "colorbar": {
              "outlinewidth": 0,
              "ticks": ""
             }
            },
            "type": "scattergeo"
           }
          ],
          "scattergl": [
           {
            "marker": {
             "colorbar": {
              "outlinewidth": 0,
              "ticks": ""
             }
            },
            "type": "scattergl"
           }
          ],
          "scattermapbox": [
           {
            "marker": {
             "colorbar": {
              "outlinewidth": 0,
              "ticks": ""
             }
            },
            "type": "scattermapbox"
           }
          ],
          "scatterpolar": [
           {
            "marker": {
             "colorbar": {
              "outlinewidth": 0,
              "ticks": ""
             }
            },
            "type": "scatterpolar"
           }
          ],
          "scatterpolargl": [
           {
            "marker": {
             "colorbar": {
              "outlinewidth": 0,
              "ticks": ""
             }
            },
            "type": "scatterpolargl"
           }
          ],
          "scatterternary": [
           {
            "marker": {
             "colorbar": {
              "outlinewidth": 0,
              "ticks": ""
             }
            },
            "type": "scatterternary"
           }
          ],
          "surface": [
           {
            "colorbar": {
             "outlinewidth": 0,
             "ticks": ""
            },
            "colorscale": [
             [
              0,
              "#0d0887"
             ],
             [
              0.1111111111111111,
              "#46039f"
             ],
             [
              0.2222222222222222,
              "#7201a8"
             ],
             [
              0.3333333333333333,
              "#9c179e"
             ],
             [
              0.4444444444444444,
              "#bd3786"
             ],
             [
              0.5555555555555556,
              "#d8576b"
             ],
             [
              0.6666666666666666,
              "#ed7953"
             ],
             [
              0.7777777777777778,
              "#fb9f3a"
             ],
             [
              0.8888888888888888,
              "#fdca26"
             ],
             [
              1,
              "#f0f921"
             ]
            ],
            "type": "surface"
           }
          ],
          "table": [
           {
            "cells": {
             "fill": {
              "color": "#EBF0F8"
             },
             "line": {
              "color": "white"
             }
            },
            "header": {
             "fill": {
              "color": "#C8D4E3"
             },
             "line": {
              "color": "white"
             }
            },
            "type": "table"
           }
          ]
         },
         "layout": {
          "annotationdefaults": {
           "arrowcolor": "#2a3f5f",
           "arrowhead": 0,
           "arrowwidth": 1
          },
          "autotypenumbers": "strict",
          "coloraxis": {
           "colorbar": {
            "outlinewidth": 0,
            "ticks": ""
           }
          },
          "colorscale": {
           "diverging": [
            [
             0,
             "#8e0152"
            ],
            [
             0.1,
             "#c51b7d"
            ],
            [
             0.2,
             "#de77ae"
            ],
            [
             0.3,
             "#f1b6da"
            ],
            [
             0.4,
             "#fde0ef"
            ],
            [
             0.5,
             "#f7f7f7"
            ],
            [
             0.6,
             "#e6f5d0"
            ],
            [
             0.7,
             "#b8e186"
            ],
            [
             0.8,
             "#7fbc41"
            ],
            [
             0.9,
             "#4d9221"
            ],
            [
             1,
             "#276419"
            ]
           ],
           "sequential": [
            [
             0,
             "#0d0887"
            ],
            [
             0.1111111111111111,
             "#46039f"
            ],
            [
             0.2222222222222222,
             "#7201a8"
            ],
            [
             0.3333333333333333,
             "#9c179e"
            ],
            [
             0.4444444444444444,
             "#bd3786"
            ],
            [
             0.5555555555555556,
             "#d8576b"
            ],
            [
             0.6666666666666666,
             "#ed7953"
            ],
            [
             0.7777777777777778,
             "#fb9f3a"
            ],
            [
             0.8888888888888888,
             "#fdca26"
            ],
            [
             1,
             "#f0f921"
            ]
           ],
           "sequentialminus": [
            [
             0,
             "#0d0887"
            ],
            [
             0.1111111111111111,
             "#46039f"
            ],
            [
             0.2222222222222222,
             "#7201a8"
            ],
            [
             0.3333333333333333,
             "#9c179e"
            ],
            [
             0.4444444444444444,
             "#bd3786"
            ],
            [
             0.5555555555555556,
             "#d8576b"
            ],
            [
             0.6666666666666666,
             "#ed7953"
            ],
            [
             0.7777777777777778,
             "#fb9f3a"
            ],
            [
             0.8888888888888888,
             "#fdca26"
            ],
            [
             1,
             "#f0f921"
            ]
           ]
          },
          "colorway": [
           "#636efa",
           "#EF553B",
           "#00cc96",
           "#ab63fa",
           "#FFA15A",
           "#19d3f3",
           "#FF6692",
           "#B6E880",
           "#FF97FF",
           "#FECB52"
          ],
          "font": {
           "color": "#2a3f5f"
          },
          "geo": {
           "bgcolor": "white",
           "lakecolor": "white",
           "landcolor": "#E5ECF6",
           "showlakes": true,
           "showland": true,
           "subunitcolor": "white"
          },
          "hoverlabel": {
           "align": "left"
          },
          "hovermode": "closest",
          "mapbox": {
           "style": "light"
          },
          "paper_bgcolor": "white",
          "plot_bgcolor": "#E5ECF6",
          "polar": {
           "angularaxis": {
            "gridcolor": "white",
            "linecolor": "white",
            "ticks": ""
           },
           "bgcolor": "#E5ECF6",
           "radialaxis": {
            "gridcolor": "white",
            "linecolor": "white",
            "ticks": ""
           }
          },
          "scene": {
           "xaxis": {
            "backgroundcolor": "#E5ECF6",
            "gridcolor": "white",
            "gridwidth": 2,
            "linecolor": "white",
            "showbackground": true,
            "ticks": "",
            "zerolinecolor": "white"
           },
           "yaxis": {
            "backgroundcolor": "#E5ECF6",
            "gridcolor": "white",
            "gridwidth": 2,
            "linecolor": "white",
            "showbackground": true,
            "ticks": "",
            "zerolinecolor": "white"
           },
           "zaxis": {
            "backgroundcolor": "#E5ECF6",
            "gridcolor": "white",
            "gridwidth": 2,
            "linecolor": "white",
            "showbackground": true,
            "ticks": "",
            "zerolinecolor": "white"
           }
          },
          "shapedefaults": {
           "line": {
            "color": "#2a3f5f"
           }
          },
          "ternary": {
           "aaxis": {
            "gridcolor": "white",
            "linecolor": "white",
            "ticks": ""
           },
           "baxis": {
            "gridcolor": "white",
            "linecolor": "white",
            "ticks": ""
           },
           "bgcolor": "#E5ECF6",
           "caxis": {
            "gridcolor": "white",
            "linecolor": "white",
            "ticks": ""
           }
          },
          "title": {
           "x": 0.05
          },
          "xaxis": {
           "automargin": true,
           "gridcolor": "white",
           "linecolor": "white",
           "ticks": "",
           "title": {
            "standoff": 15
           },
           "zerolinecolor": "white",
           "zerolinewidth": 2
          },
          "yaxis": {
           "automargin": true,
           "gridcolor": "white",
           "linecolor": "white",
           "ticks": "",
           "title": {
            "standoff": 15
           },
           "zerolinecolor": "white",
           "zerolinewidth": 2
          }
         }
        },
        "xaxis": {
         "anchor": "y",
         "constrain": "domain",
         "domain": [
          0,
          1
         ],
         "scaleanchor": "y",
         "title": {
          "text": "num_cars1"
         }
        },
        "yaxis": {
         "anchor": "x",
         "autorange": true,
         "constrain": "domain",
         "domain": [
          0,
          1
         ],
         "title": {
          "text": "num_cars0"
         }
        }
       }
      }
     },
     "metadata": {},
     "output_type": "display_data"
    }
   ],
   "source": [
    "px.imshow(\n",
    "    v,\n",
    "    #text_auto=True,\n",
    "    labels=dict(x=\"num_cars1\", y=\"num_cars0\", color=\"Value function\"),\n",
    "    x=np.arange(0, config.max_cars_location + 1),\n",
    "    y=np.arange(0, config.max_cars_location + 1),\n",
    "    origin=\"lower\"\n",
    ")"
   ]
  },
  {
   "cell_type": "code",
   "execution_count": 20,
   "metadata": {},
   "outputs": [
    {
     "data": {
      "application/vnd.plotly.v1+json": {
       "config": {
        "plotlyServerURL": "https://plot.ly"
       },
       "data": [
        {
         "coloraxis": "coloraxis",
         "hovertemplate": "num_cars1: %{x}<br>num_cars0: %{y}<br>Cars moved: %{z}<extra></extra>",
         "name": "0",
         "type": "heatmap",
         "x": [
          0,
          1,
          2,
          3,
          4,
          5,
          6,
          7,
          8,
          9,
          10,
          11,
          12,
          13,
          14,
          15,
          16,
          17,
          18,
          19,
          20
         ],
         "xaxis": "x",
         "y": [
          0,
          1,
          2,
          3,
          4,
          5,
          6,
          7,
          8,
          9,
          10,
          11,
          12,
          13,
          14,
          15,
          16,
          17,
          18,
          19,
          20
         ],
         "yaxis": "y",
         "z": [
          [
           0,
           0,
           0,
           0,
           0,
           0,
           0,
           0,
           -1,
           -1,
           -2,
           -2,
           -2,
           -3,
           -3,
           -3,
           -3,
           -3,
           -4,
           -4,
           -4
          ],
          [
           0,
           0,
           0,
           0,
           0,
           0,
           0,
           0,
           0,
           -1,
           -1,
           -1,
           -2,
           -2,
           -2,
           -2,
           -2,
           -3,
           -3,
           -3,
           -3
          ],
          [
           0,
           0,
           0,
           0,
           0,
           0,
           0,
           0,
           0,
           0,
           0,
           -1,
           -1,
           -1,
           -1,
           -1,
           -2,
           -2,
           -2,
           -2,
           -2
          ],
          [
           0,
           0,
           0,
           0,
           0,
           0,
           0,
           0,
           0,
           0,
           0,
           0,
           0,
           0,
           0,
           -1,
           -1,
           -1,
           -1,
           -1,
           -2
          ],
          [
           0,
           0,
           0,
           0,
           0,
           0,
           0,
           0,
           0,
           0,
           0,
           0,
           0,
           0,
           0,
           0,
           0,
           0,
           0,
           -1,
           -1
          ],
          [
           1,
           1,
           1,
           0,
           0,
           0,
           0,
           0,
           0,
           0,
           0,
           0,
           0,
           0,
           0,
           0,
           0,
           0,
           0,
           0,
           0
          ],
          [
           2,
           2,
           1,
           1,
           0,
           0,
           0,
           0,
           0,
           0,
           0,
           0,
           0,
           0,
           0,
           0,
           0,
           0,
           0,
           0,
           0
          ],
          [
           3,
           2,
           2,
           1,
           1,
           0,
           0,
           0,
           0,
           0,
           0,
           0,
           0,
           0,
           0,
           0,
           0,
           0,
           0,
           0,
           0
          ],
          [
           3,
           3,
           2,
           2,
           1,
           1,
           0,
           0,
           0,
           0,
           0,
           0,
           0,
           0,
           0,
           0,
           0,
           0,
           0,
           0,
           0
          ],
          [
           4,
           3,
           3,
           2,
           2,
           1,
           0,
           0,
           0,
           0,
           0,
           0,
           0,
           0,
           0,
           0,
           0,
           0,
           0,
           0,
           0
          ],
          [
           4,
           4,
           3,
           3,
           2,
           1,
           0,
           0,
           0,
           0,
           0,
           0,
           0,
           0,
           0,
           0,
           0,
           0,
           0,
           0,
           0
          ],
          [
           5,
           4,
           4,
           3,
           2,
           1,
           1,
           0,
           0,
           0,
           0,
           0,
           0,
           0,
           0,
           0,
           0,
           0,
           0,
           0,
           0
          ],
          [
           5,
           5,
           4,
           3,
           2,
           2,
           1,
           0,
           0,
           0,
           0,
           0,
           0,
           0,
           0,
           0,
           0,
           0,
           0,
           0,
           0
          ],
          [
           5,
           5,
           4,
           3,
           3,
           2,
           1,
           0,
           0,
           0,
           0,
           0,
           0,
           0,
           0,
           0,
           0,
           0,
           0,
           0,
           0
          ],
          [
           5,
           5,
           4,
           4,
           3,
           2,
           1,
           0,
           0,
           0,
           0,
           0,
           0,
           0,
           0,
           0,
           0,
           0,
           0,
           0,
           0
          ],
          [
           5,
           5,
           5,
           4,
           3,
           2,
           1,
           0,
           0,
           0,
           0,
           0,
           0,
           0,
           0,
           0,
           0,
           0,
           0,
           0,
           0
          ],
          [
           5,
           5,
           5,
           4,
           3,
           2,
           1,
           1,
           0,
           0,
           0,
           0,
           0,
           0,
           0,
           0,
           0,
           0,
           0,
           0,
           0
          ],
          [
           5,
           5,
           5,
           4,
           3,
           2,
           2,
           1,
           1,
           0,
           0,
           0,
           0,
           0,
           0,
           0,
           0,
           0,
           0,
           0,
           0
          ],
          [
           5,
           5,
           5,
           4,
           3,
           3,
           2,
           2,
           1,
           1,
           1,
           1,
           0,
           0,
           0,
           0,
           0,
           0,
           0,
           0,
           0
          ],
          [
           5,
           5,
           5,
           4,
           4,
           3,
           3,
           2,
           2,
           2,
           2,
           1,
           1,
           1,
           1,
           1,
           0,
           0,
           0,
           0,
           0
          ],
          [
           5,
           5,
           5,
           5,
           4,
           4,
           3,
           3,
           3,
           3,
           2,
           2,
           2,
           2,
           2,
           1,
           1,
           1,
           0,
           0,
           0
          ]
         ]
        }
       ],
       "layout": {
        "coloraxis": {
         "colorbar": {
          "title": {
           "text": "Cars moved"
          }
         },
         "colorscale": [
          [
           0,
           "#0d0887"
          ],
          [
           0.1111111111111111,
           "#46039f"
          ],
          [
           0.2222222222222222,
           "#7201a8"
          ],
          [
           0.3333333333333333,
           "#9c179e"
          ],
          [
           0.4444444444444444,
           "#bd3786"
          ],
          [
           0.5555555555555556,
           "#d8576b"
          ],
          [
           0.6666666666666666,
           "#ed7953"
          ],
          [
           0.7777777777777778,
           "#fb9f3a"
          ],
          [
           0.8888888888888888,
           "#fdca26"
          ],
          [
           1,
           "#f0f921"
          ]
         ]
        },
        "margin": {
         "t": 60
        },
        "template": {
         "data": {
          "bar": [
           {
            "error_x": {
             "color": "#2a3f5f"
            },
            "error_y": {
             "color": "#2a3f5f"
            },
            "marker": {
             "line": {
              "color": "#E5ECF6",
              "width": 0.5
             },
             "pattern": {
              "fillmode": "overlay",
              "size": 10,
              "solidity": 0.2
             }
            },
            "type": "bar"
           }
          ],
          "barpolar": [
           {
            "marker": {
             "line": {
              "color": "#E5ECF6",
              "width": 0.5
             },
             "pattern": {
              "fillmode": "overlay",
              "size": 10,
              "solidity": 0.2
             }
            },
            "type": "barpolar"
           }
          ],
          "carpet": [
           {
            "aaxis": {
             "endlinecolor": "#2a3f5f",
             "gridcolor": "white",
             "linecolor": "white",
             "minorgridcolor": "white",
             "startlinecolor": "#2a3f5f"
            },
            "baxis": {
             "endlinecolor": "#2a3f5f",
             "gridcolor": "white",
             "linecolor": "white",
             "minorgridcolor": "white",
             "startlinecolor": "#2a3f5f"
            },
            "type": "carpet"
           }
          ],
          "choropleth": [
           {
            "colorbar": {
             "outlinewidth": 0,
             "ticks": ""
            },
            "type": "choropleth"
           }
          ],
          "contour": [
           {
            "colorbar": {
             "outlinewidth": 0,
             "ticks": ""
            },
            "colorscale": [
             [
              0,
              "#0d0887"
             ],
             [
              0.1111111111111111,
              "#46039f"
             ],
             [
              0.2222222222222222,
              "#7201a8"
             ],
             [
              0.3333333333333333,
              "#9c179e"
             ],
             [
              0.4444444444444444,
              "#bd3786"
             ],
             [
              0.5555555555555556,
              "#d8576b"
             ],
             [
              0.6666666666666666,
              "#ed7953"
             ],
             [
              0.7777777777777778,
              "#fb9f3a"
             ],
             [
              0.8888888888888888,
              "#fdca26"
             ],
             [
              1,
              "#f0f921"
             ]
            ],
            "type": "contour"
           }
          ],
          "contourcarpet": [
           {
            "colorbar": {
             "outlinewidth": 0,
             "ticks": ""
            },
            "type": "contourcarpet"
           }
          ],
          "heatmap": [
           {
            "colorbar": {
             "outlinewidth": 0,
             "ticks": ""
            },
            "colorscale": [
             [
              0,
              "#0d0887"
             ],
             [
              0.1111111111111111,
              "#46039f"
             ],
             [
              0.2222222222222222,
              "#7201a8"
             ],
             [
              0.3333333333333333,
              "#9c179e"
             ],
             [
              0.4444444444444444,
              "#bd3786"
             ],
             [
              0.5555555555555556,
              "#d8576b"
             ],
             [
              0.6666666666666666,
              "#ed7953"
             ],
             [
              0.7777777777777778,
              "#fb9f3a"
             ],
             [
              0.8888888888888888,
              "#fdca26"
             ],
             [
              1,
              "#f0f921"
             ]
            ],
            "type": "heatmap"
           }
          ],
          "heatmapgl": [
           {
            "colorbar": {
             "outlinewidth": 0,
             "ticks": ""
            },
            "colorscale": [
             [
              0,
              "#0d0887"
             ],
             [
              0.1111111111111111,
              "#46039f"
             ],
             [
              0.2222222222222222,
              "#7201a8"
             ],
             [
              0.3333333333333333,
              "#9c179e"
             ],
             [
              0.4444444444444444,
              "#bd3786"
             ],
             [
              0.5555555555555556,
              "#d8576b"
             ],
             [
              0.6666666666666666,
              "#ed7953"
             ],
             [
              0.7777777777777778,
              "#fb9f3a"
             ],
             [
              0.8888888888888888,
              "#fdca26"
             ],
             [
              1,
              "#f0f921"
             ]
            ],
            "type": "heatmapgl"
           }
          ],
          "histogram": [
           {
            "marker": {
             "pattern": {
              "fillmode": "overlay",
              "size": 10,
              "solidity": 0.2
             }
            },
            "type": "histogram"
           }
          ],
          "histogram2d": [
           {
            "colorbar": {
             "outlinewidth": 0,
             "ticks": ""
            },
            "colorscale": [
             [
              0,
              "#0d0887"
             ],
             [
              0.1111111111111111,
              "#46039f"
             ],
             [
              0.2222222222222222,
              "#7201a8"
             ],
             [
              0.3333333333333333,
              "#9c179e"
             ],
             [
              0.4444444444444444,
              "#bd3786"
             ],
             [
              0.5555555555555556,
              "#d8576b"
             ],
             [
              0.6666666666666666,
              "#ed7953"
             ],
             [
              0.7777777777777778,
              "#fb9f3a"
             ],
             [
              0.8888888888888888,
              "#fdca26"
             ],
             [
              1,
              "#f0f921"
             ]
            ],
            "type": "histogram2d"
           }
          ],
          "histogram2dcontour": [
           {
            "colorbar": {
             "outlinewidth": 0,
             "ticks": ""
            },
            "colorscale": [
             [
              0,
              "#0d0887"
             ],
             [
              0.1111111111111111,
              "#46039f"
             ],
             [
              0.2222222222222222,
              "#7201a8"
             ],
             [
              0.3333333333333333,
              "#9c179e"
             ],
             [
              0.4444444444444444,
              "#bd3786"
             ],
             [
              0.5555555555555556,
              "#d8576b"
             ],
             [
              0.6666666666666666,
              "#ed7953"
             ],
             [
              0.7777777777777778,
              "#fb9f3a"
             ],
             [
              0.8888888888888888,
              "#fdca26"
             ],
             [
              1,
              "#f0f921"
             ]
            ],
            "type": "histogram2dcontour"
           }
          ],
          "mesh3d": [
           {
            "colorbar": {
             "outlinewidth": 0,
             "ticks": ""
            },
            "type": "mesh3d"
           }
          ],
          "parcoords": [
           {
            "line": {
             "colorbar": {
              "outlinewidth": 0,
              "ticks": ""
             }
            },
            "type": "parcoords"
           }
          ],
          "pie": [
           {
            "automargin": true,
            "type": "pie"
           }
          ],
          "scatter": [
           {
            "fillpattern": {
             "fillmode": "overlay",
             "size": 10,
             "solidity": 0.2
            },
            "type": "scatter"
           }
          ],
          "scatter3d": [
           {
            "line": {
             "colorbar": {
              "outlinewidth": 0,
              "ticks": ""
             }
            },
            "marker": {
             "colorbar": {
              "outlinewidth": 0,
              "ticks": ""
             }
            },
            "type": "scatter3d"
           }
          ],
          "scattercarpet": [
           {
            "marker": {
             "colorbar": {
              "outlinewidth": 0,
              "ticks": ""
             }
            },
            "type": "scattercarpet"
           }
          ],
          "scattergeo": [
           {
            "marker": {
             "colorbar": {
              "outlinewidth": 0,
              "ticks": ""
             }
            },
            "type": "scattergeo"
           }
          ],
          "scattergl": [
           {
            "marker": {
             "colorbar": {
              "outlinewidth": 0,
              "ticks": ""
             }
            },
            "type": "scattergl"
           }
          ],
          "scattermapbox": [
           {
            "marker": {
             "colorbar": {
              "outlinewidth": 0,
              "ticks": ""
             }
            },
            "type": "scattermapbox"
           }
          ],
          "scatterpolar": [
           {
            "marker": {
             "colorbar": {
              "outlinewidth": 0,
              "ticks": ""
             }
            },
            "type": "scatterpolar"
           }
          ],
          "scatterpolargl": [
           {
            "marker": {
             "colorbar": {
              "outlinewidth": 0,
              "ticks": ""
             }
            },
            "type": "scatterpolargl"
           }
          ],
          "scatterternary": [
           {
            "marker": {
             "colorbar": {
              "outlinewidth": 0,
              "ticks": ""
             }
            },
            "type": "scatterternary"
           }
          ],
          "surface": [
           {
            "colorbar": {
             "outlinewidth": 0,
             "ticks": ""
            },
            "colorscale": [
             [
              0,
              "#0d0887"
             ],
             [
              0.1111111111111111,
              "#46039f"
             ],
             [
              0.2222222222222222,
              "#7201a8"
             ],
             [
              0.3333333333333333,
              "#9c179e"
             ],
             [
              0.4444444444444444,
              "#bd3786"
             ],
             [
              0.5555555555555556,
              "#d8576b"
             ],
             [
              0.6666666666666666,
              "#ed7953"
             ],
             [
              0.7777777777777778,
              "#fb9f3a"
             ],
             [
              0.8888888888888888,
              "#fdca26"
             ],
             [
              1,
              "#f0f921"
             ]
            ],
            "type": "surface"
           }
          ],
          "table": [
           {
            "cells": {
             "fill": {
              "color": "#EBF0F8"
             },
             "line": {
              "color": "white"
             }
            },
            "header": {
             "fill": {
              "color": "#C8D4E3"
             },
             "line": {
              "color": "white"
             }
            },
            "type": "table"
           }
          ]
         },
         "layout": {
          "annotationdefaults": {
           "arrowcolor": "#2a3f5f",
           "arrowhead": 0,
           "arrowwidth": 1
          },
          "autotypenumbers": "strict",
          "coloraxis": {
           "colorbar": {
            "outlinewidth": 0,
            "ticks": ""
           }
          },
          "colorscale": {
           "diverging": [
            [
             0,
             "#8e0152"
            ],
            [
             0.1,
             "#c51b7d"
            ],
            [
             0.2,
             "#de77ae"
            ],
            [
             0.3,
             "#f1b6da"
            ],
            [
             0.4,
             "#fde0ef"
            ],
            [
             0.5,
             "#f7f7f7"
            ],
            [
             0.6,
             "#e6f5d0"
            ],
            [
             0.7,
             "#b8e186"
            ],
            [
             0.8,
             "#7fbc41"
            ],
            [
             0.9,
             "#4d9221"
            ],
            [
             1,
             "#276419"
            ]
           ],
           "sequential": [
            [
             0,
             "#0d0887"
            ],
            [
             0.1111111111111111,
             "#46039f"
            ],
            [
             0.2222222222222222,
             "#7201a8"
            ],
            [
             0.3333333333333333,
             "#9c179e"
            ],
            [
             0.4444444444444444,
             "#bd3786"
            ],
            [
             0.5555555555555556,
             "#d8576b"
            ],
            [
             0.6666666666666666,
             "#ed7953"
            ],
            [
             0.7777777777777778,
             "#fb9f3a"
            ],
            [
             0.8888888888888888,
             "#fdca26"
            ],
            [
             1,
             "#f0f921"
            ]
           ],
           "sequentialminus": [
            [
             0,
             "#0d0887"
            ],
            [
             0.1111111111111111,
             "#46039f"
            ],
            [
             0.2222222222222222,
             "#7201a8"
            ],
            [
             0.3333333333333333,
             "#9c179e"
            ],
            [
             0.4444444444444444,
             "#bd3786"
            ],
            [
             0.5555555555555556,
             "#d8576b"
            ],
            [
             0.6666666666666666,
             "#ed7953"
            ],
            [
             0.7777777777777778,
             "#fb9f3a"
            ],
            [
             0.8888888888888888,
             "#fdca26"
            ],
            [
             1,
             "#f0f921"
            ]
           ]
          },
          "colorway": [
           "#636efa",
           "#EF553B",
           "#00cc96",
           "#ab63fa",
           "#FFA15A",
           "#19d3f3",
           "#FF6692",
           "#B6E880",
           "#FF97FF",
           "#FECB52"
          ],
          "font": {
           "color": "#2a3f5f"
          },
          "geo": {
           "bgcolor": "white",
           "lakecolor": "white",
           "landcolor": "#E5ECF6",
           "showlakes": true,
           "showland": true,
           "subunitcolor": "white"
          },
          "hoverlabel": {
           "align": "left"
          },
          "hovermode": "closest",
          "mapbox": {
           "style": "light"
          },
          "paper_bgcolor": "white",
          "plot_bgcolor": "#E5ECF6",
          "polar": {
           "angularaxis": {
            "gridcolor": "white",
            "linecolor": "white",
            "ticks": ""
           },
           "bgcolor": "#E5ECF6",
           "radialaxis": {
            "gridcolor": "white",
            "linecolor": "white",
            "ticks": ""
           }
          },
          "scene": {
           "xaxis": {
            "backgroundcolor": "#E5ECF6",
            "gridcolor": "white",
            "gridwidth": 2,
            "linecolor": "white",
            "showbackground": true,
            "ticks": "",
            "zerolinecolor": "white"
           },
           "yaxis": {
            "backgroundcolor": "#E5ECF6",
            "gridcolor": "white",
            "gridwidth": 2,
            "linecolor": "white",
            "showbackground": true,
            "ticks": "",
            "zerolinecolor": "white"
           },
           "zaxis": {
            "backgroundcolor": "#E5ECF6",
            "gridcolor": "white",
            "gridwidth": 2,
            "linecolor": "white",
            "showbackground": true,
            "ticks": "",
            "zerolinecolor": "white"
           }
          },
          "shapedefaults": {
           "line": {
            "color": "#2a3f5f"
           }
          },
          "ternary": {
           "aaxis": {
            "gridcolor": "white",
            "linecolor": "white",
            "ticks": ""
           },
           "baxis": {
            "gridcolor": "white",
            "linecolor": "white",
            "ticks": ""
           },
           "bgcolor": "#E5ECF6",
           "caxis": {
            "gridcolor": "white",
            "linecolor": "white",
            "ticks": ""
           }
          },
          "title": {
           "x": 0.05
          },
          "xaxis": {
           "automargin": true,
           "gridcolor": "white",
           "linecolor": "white",
           "ticks": "",
           "title": {
            "standoff": 15
           },
           "zerolinecolor": "white",
           "zerolinewidth": 2
          },
          "yaxis": {
           "automargin": true,
           "gridcolor": "white",
           "linecolor": "white",
           "ticks": "",
           "title": {
            "standoff": 15
           },
           "zerolinecolor": "white",
           "zerolinewidth": 2
          }
         }
        },
        "xaxis": {
         "anchor": "y",
         "constrain": "domain",
         "domain": [
          0,
          1
         ],
         "scaleanchor": "y",
         "title": {
          "text": "num_cars1"
         }
        },
        "yaxis": {
         "anchor": "x",
         "autorange": true,
         "constrain": "domain",
         "domain": [
          0,
          1
         ],
         "title": {
          "text": "num_cars0"
         }
        }
       }
      }
     },
     "metadata": {},
     "output_type": "display_data"
    }
   ],
   "source": [
    "policy_fig = px.imshow(\n",
    "    policy,\n",
    "    #text_auto=True,\n",
    "    labels=dict(x=\"num_cars1\", y=\"num_cars0\", color=\"Cars moved\"),\n",
    "    x=np.arange(0, config.max_cars_location + 1),\n",
    "    y=np.arange(0, config.max_cars_location + 1),\n",
    "    origin=\"lower\"\n",
    ")\n",
    "policy_fig.write_html(img_folder / \"policy.html\")\n",
    "policy_fig.show()"
   ]
  },
  {
   "cell_type": "markdown",
   "metadata": {},
   "source": [
    "## Links\n",
    "\n",
    "- [Sutton and Barto book's site](http://incompleteideas.net/book/the-book-2nd.html)\n",
    "- [Other implementation in Python](https://github.com/ShangtongZhang/reinforcement-learning-an-introduction)"
   ]
  }
 ],
 "metadata": {
  "kernelspec": {
   "display_name": "base",
   "language": "python",
   "name": "python3"
  },
  "language_info": {
   "codemirror_mode": {
    "name": "ipython",
    "version": 3
   },
   "file_extension": ".py",
   "mimetype": "text/x-python",
   "name": "python",
   "nbconvert_exporter": "python",
   "pygments_lexer": "ipython3",
   "version": "3.13.5"
  }
 },
 "nbformat": 4,
 "nbformat_minor": 2
}
